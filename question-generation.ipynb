{
 "cells": [
  {
   "cell_type": "code",
   "execution_count": 12,
   "outputs": [
    {
     "data": {
      "text/plain": "                        id object             created         owned_by  \\\n4            gpt-3.5-turbo  model 2023-02-28 18:56:42           openai   \n56      gpt-3.5-turbo-0301  model 2023-03-01 05:52:43           openai   \n13      gpt-3.5-turbo-0613  model 2023-06-12 16:30:34           openai   \n19       gpt-3.5-turbo-16k  model 2023-05-10 22:35:02  openai-internal   \n15  gpt-3.5-turbo-16k-0613  model 2023-05-30 19:17:27           openai   \n1                    gpt-4  model 2023-06-27 16:13:31           openai   \n39              gpt-4-0314  model 2023-06-27 16:13:30           openai   \n7               gpt-4-0613  model 2023-06-12 16:54:56           openai   \n\n                                           permission                    root  \\\n4   [{'id': 'modelperm-aRL68Vu37kh2Z0wi2tmPhGZT', ...           gpt-3.5-turbo   \n56  [{'id': 'modelperm-I4IcSJFYZl2fIK0DPSBkgK3d', ...      gpt-3.5-turbo-0301   \n13  [{'id': 'modelperm-t8jT1BkYxMNFFB57ndHNpyfP', ...      gpt-3.5-turbo-0613   \n19  [{'id': 'modelperm-BPjHua9GyiXIbj7F0M6c4j0A', ...       gpt-3.5-turbo-16k   \n15  [{'id': 'modelperm-hb67ObpoaFIKTieIMs9CqZPq', ...  gpt-3.5-turbo-16k-0613   \n1   [{'id': 'modelperm-tsET7VSHRhiQHP5Qz6TU1FBb', ...                   gpt-4   \n39  [{'id': 'modelperm-AK02E3SrXhuSjwJAWvcSvR3q', ...              gpt-4-0314   \n7   [{'id': 'modelperm-XgbDsLBjXy3aVd6xZvWJFmW2', ...              gpt-4-0613   \n\n   parent  \n4    None  \n56   None  \n13   None  \n19   None  \n15   None  \n1    None  \n39   None  \n7    None  ",
      "text/html": "<div>\n<style scoped>\n    .dataframe tbody tr th:only-of-type {\n        vertical-align: middle;\n    }\n\n    .dataframe tbody tr th {\n        vertical-align: top;\n    }\n\n    .dataframe thead th {\n        text-align: right;\n    }\n</style>\n<table border=\"1\" class=\"dataframe\">\n  <thead>\n    <tr style=\"text-align: right;\">\n      <th></th>\n      <th>id</th>\n      <th>object</th>\n      <th>created</th>\n      <th>owned_by</th>\n      <th>permission</th>\n      <th>root</th>\n      <th>parent</th>\n    </tr>\n  </thead>\n  <tbody>\n    <tr>\n      <th>4</th>\n      <td>gpt-3.5-turbo</td>\n      <td>model</td>\n      <td>2023-02-28 18:56:42</td>\n      <td>openai</td>\n      <td>[{'id': 'modelperm-aRL68Vu37kh2Z0wi2tmPhGZT', ...</td>\n      <td>gpt-3.5-turbo</td>\n      <td>None</td>\n    </tr>\n    <tr>\n      <th>56</th>\n      <td>gpt-3.5-turbo-0301</td>\n      <td>model</td>\n      <td>2023-03-01 05:52:43</td>\n      <td>openai</td>\n      <td>[{'id': 'modelperm-I4IcSJFYZl2fIK0DPSBkgK3d', ...</td>\n      <td>gpt-3.5-turbo-0301</td>\n      <td>None</td>\n    </tr>\n    <tr>\n      <th>13</th>\n      <td>gpt-3.5-turbo-0613</td>\n      <td>model</td>\n      <td>2023-06-12 16:30:34</td>\n      <td>openai</td>\n      <td>[{'id': 'modelperm-t8jT1BkYxMNFFB57ndHNpyfP', ...</td>\n      <td>gpt-3.5-turbo-0613</td>\n      <td>None</td>\n    </tr>\n    <tr>\n      <th>19</th>\n      <td>gpt-3.5-turbo-16k</td>\n      <td>model</td>\n      <td>2023-05-10 22:35:02</td>\n      <td>openai-internal</td>\n      <td>[{'id': 'modelperm-BPjHua9GyiXIbj7F0M6c4j0A', ...</td>\n      <td>gpt-3.5-turbo-16k</td>\n      <td>None</td>\n    </tr>\n    <tr>\n      <th>15</th>\n      <td>gpt-3.5-turbo-16k-0613</td>\n      <td>model</td>\n      <td>2023-05-30 19:17:27</td>\n      <td>openai</td>\n      <td>[{'id': 'modelperm-hb67ObpoaFIKTieIMs9CqZPq', ...</td>\n      <td>gpt-3.5-turbo-16k-0613</td>\n      <td>None</td>\n    </tr>\n    <tr>\n      <th>1</th>\n      <td>gpt-4</td>\n      <td>model</td>\n      <td>2023-06-27 16:13:31</td>\n      <td>openai</td>\n      <td>[{'id': 'modelperm-tsET7VSHRhiQHP5Qz6TU1FBb', ...</td>\n      <td>gpt-4</td>\n      <td>None</td>\n    </tr>\n    <tr>\n      <th>39</th>\n      <td>gpt-4-0314</td>\n      <td>model</td>\n      <td>2023-06-27 16:13:30</td>\n      <td>openai</td>\n      <td>[{'id': 'modelperm-AK02E3SrXhuSjwJAWvcSvR3q', ...</td>\n      <td>gpt-4-0314</td>\n      <td>None</td>\n    </tr>\n    <tr>\n      <th>7</th>\n      <td>gpt-4-0613</td>\n      <td>model</td>\n      <td>2023-06-12 16:54:56</td>\n      <td>openai</td>\n      <td>[{'id': 'modelperm-XgbDsLBjXy3aVd6xZvWJFmW2', ...</td>\n      <td>gpt-4-0613</td>\n      <td>None</td>\n    </tr>\n  </tbody>\n</table>\n</div>"
     },
     "execution_count": 12,
     "metadata": {},
     "output_type": "execute_result"
    }
   ],
   "source": [
    "import pandas as pd\n",
    "import openai\n",
    "\n",
    "with open('token.txt') as f:\n",
    "    api_key = f.readline()\n",
    "\n",
    "openai.api_key = api_key\n",
    "\n",
    "# list models\n",
    "models = openai.Model.list()\n",
    "models = pd.DataFrame(models.data)\n",
    "models['created'] = pd.to_datetime(models['created'], unit='s')\n",
    "models.sort_values('id', inplace=True)\n",
    "models[models['id'].str.contains('gpt')]"
   ],
   "metadata": {
    "collapsed": false,
    "ExecuteTime": {
     "end_time": "2023-09-02T11:22:29.285780500Z",
     "start_time": "2023-09-02T11:22:28.716554300Z"
    }
   }
  },
  {
   "cell_type": "code",
   "execution_count": 14,
   "outputs": [
    {
     "data": {
      "text/plain": "                        id object             created         owned_by  \\\n30  text-embedding-ada-002  model 2022-12-16 19:01:39  openai-internal   \n\n                                           permission                    root  \\\n30  [{'id': 'modelperm-6xIVIGILGxg9gTVWY0SpzkFn', ...  text-embedding-ada-002   \n\n   parent  \n30   None  ",
      "text/html": "<div>\n<style scoped>\n    .dataframe tbody tr th:only-of-type {\n        vertical-align: middle;\n    }\n\n    .dataframe tbody tr th {\n        vertical-align: top;\n    }\n\n    .dataframe thead th {\n        text-align: right;\n    }\n</style>\n<table border=\"1\" class=\"dataframe\">\n  <thead>\n    <tr style=\"text-align: right;\">\n      <th></th>\n      <th>id</th>\n      <th>object</th>\n      <th>created</th>\n      <th>owned_by</th>\n      <th>permission</th>\n      <th>root</th>\n      <th>parent</th>\n    </tr>\n  </thead>\n  <tbody>\n    <tr>\n      <th>30</th>\n      <td>text-embedding-ada-002</td>\n      <td>model</td>\n      <td>2022-12-16 19:01:39</td>\n      <td>openai-internal</td>\n      <td>[{'id': 'modelperm-6xIVIGILGxg9gTVWY0SpzkFn', ...</td>\n      <td>text-embedding-ada-002</td>\n      <td>None</td>\n    </tr>\n  </tbody>\n</table>\n</div>"
     },
     "execution_count": 14,
     "metadata": {},
     "output_type": "execute_result"
    }
   ],
   "source": [
    "models[models['id'].str.contains('embedding')]"
   ],
   "metadata": {
    "collapsed": false,
    "ExecuteTime": {
     "end_time": "2023-09-02T11:22:46.967568500Z",
     "start_time": "2023-09-02T11:22:46.940993600Z"
    }
   }
  },
  {
   "cell_type": "code",
   "execution_count": 46,
   "outputs": [],
   "source": [
    "from langchain.prompts import PromptTemplate\n",
    "from langchain.chains.summarize import load_summarize_chain\n",
    "from langchain.docstore.document import Document\n",
    "from langchain.chat_models import ChatOpenAI\n",
    "\n",
    "llm = ChatOpenAI(openai_api_key=api_key, model_name='gpt-4-0613')"
   ],
   "metadata": {
    "collapsed": false,
    "ExecuteTime": {
     "end_time": "2023-09-02T11:47:03.931714300Z",
     "start_time": "2023-09-02T11:47:03.919364500Z"
    }
   }
  },
  {
   "cell_type": "code",
   "execution_count": 97,
   "outputs": [],
   "source": [
    "def get_cat4_test_q_prompt(n_questions=5, user_instruction=\"\"):\n",
    "\n",
    "    ordered_instructions = [\n",
    "        f\"Generate JSON with list of {n_questions} questions.\",\n",
    "        \"\"\"Each questions is a dict with such keys:\n",
    "        question_id (string), question (string), options (list of strings), correct_answer (string), explanation (string).\"\"\",\n",
    "        \"Each question should only contain one correct answer. Incorrect answers should be plausible but incorrect.\",\n",
    "        \"Provide explanation for the correct answer.\",\n",
    "        \"\"\"Format the output as in the example:\n",
    "\n",
    "        {{\n",
    "            \"questions\": [\n",
    "                {{\n",
    "                    \"question_id\": 1,\n",
    "                    \"question\": \"Which one of the following is not a bird?\",\n",
    "                    \"options\": [\"🦅\", \"🦉\", \"🦚\", \"🐱\"],\n",
    "                    \"correct_answer\": \"🐱\",\n",
    "                    \"explanation\": \"birds have wings, 🐱 does not\"\n",
    "                }},\n",
    "                {{\n",
    "                    \"question_id\": 2,\n",
    "                    \"question\": \"Which animal is known to love eating bananas?\",\n",
    "                    \"options\": [\"🐶\", \"🐱\", \"🦓\", \"🐒\"],\n",
    "                    \"correct_answer\": \"🐒\",\n",
    "                    \"explanation\": \"it is hard for other animals to grasp a banana, so they usually eat other food\"\n",
    "                }}\n",
    "            ]\n",
    "        }}\n",
    "\n",
    "        \"\"\",\n",
    "        \"\"\"Only use the following context (if exists) to come up with the questions:\n",
    "        {text}\"\"\",\n",
    "    ]\n",
    "\n",
    "    prompt_template = \"Abide by instructions.\\n\"\n",
    "    instructions_counter = 1\n",
    "    if len(user_instruction):\n",
    "        prompt_template += f\"Instruction {instructions_counter}. {user_instruction}\\n\"\n",
    "        instructions_counter += 1\n",
    "\n",
    "    for instruction in ordered_instructions:\n",
    "        prompt_template += f\"Instruction {instructions_counter}. {instruction}\\n\"\n",
    "        instructions_counter += 1\n",
    "\n",
    "\n",
    "    prompt_template += \"\\nJSON:\"\n",
    "\n",
    "    main_prompt = PromptTemplate(template=prompt_template, input_variables=[\"text\"])\n",
    "\n",
    "    refine_template = (\n",
    "        \"Your job is to refine a quiz with single-choice questions for children.\\n\"\n",
    "        \"We have provided an existing set of questions in JSON: {existing_answer}\\n\"\n",
    "        \"Here is some more context (if exists) that might help.\\n\"\n",
    "        \"------------\\n\"\n",
    "        \"{text}\\n\"\n",
    "        \"------------\\n\"\n",
    "        \"Given the new context, refine the original set of questions.\\n\"\n",
    "        \"If the context isn't useful, return the original set of questions.\\n\"\n",
    "        \"Only respond with a single JSON.\\n\"\n",
    "        \"Here is the refined quiz in JSON format based on the provided context:\"\n",
    "    )\n",
    "\n",
    "    refined_prompt = PromptTemplate(\n",
    "        input_variables=[\"existing_answer\", \"text\"],\n",
    "        template=refine_template,\n",
    "    )\n",
    "\n",
    "    return main_prompt, refined_prompt\n",
    "\n",
    "# Example usage\n",
    "main_prompt, refined_prompt = get_cat4_test_q_prompt(\n",
    "    n_questions=5,\n",
    "    user_instruction=\"Create a Verbal Reasoning question using Animal emojis for 11+ United Kingdom exam.\"\n",
    ")\n",
    "# print(\"Main Prompt:\", main_prompt.template)\n",
    "# print(\"Refined Prompt:\", refined_prompt.template)"
   ],
   "metadata": {
    "collapsed": false,
    "ExecuteTime": {
     "end_time": "2023-09-02T13:02:28.641375300Z",
     "start_time": "2023-09-02T13:02:28.614914100Z"
    }
   }
  },
  {
   "cell_type": "code",
   "execution_count": 98,
   "outputs": [],
   "source": [
    "docs = [\"\"]\n",
    "docs = [Document(page_content=doc_text) for doc_text in docs]"
   ],
   "metadata": {
    "collapsed": false,
    "ExecuteTime": {
     "end_time": "2023-09-02T13:02:32.057718500Z",
     "start_time": "2023-09-02T13:02:32.044087700Z"
    }
   }
  },
  {
   "cell_type": "code",
   "execution_count": 99,
   "outputs": [],
   "source": [
    "chain = load_summarize_chain(\n",
    "    llm=llm,\n",
    "    chain_type=\"refine\",\n",
    "    return_intermediate_steps=True,\n",
    "    question_prompt=main_prompt,\n",
    "    refine_prompt=refined_prompt,\n",
    ")\n",
    "#\n",
    "output = chain({\"input_documents\": docs}, return_only_outputs=True)"
   ],
   "metadata": {
    "collapsed": false,
    "ExecuteTime": {
     "end_time": "2023-09-02T13:03:03.618467900Z",
     "start_time": "2023-09-02T13:02:33.415153400Z"
    }
   }
  },
  {
   "cell_type": "code",
   "execution_count": 100,
   "outputs": [
    {
     "name": "stdout",
     "output_type": "stream",
     "text": [
      "{\n",
      "    \"questions\": [\n",
      "        {\n",
      "            \"question_id\": \"1\",\n",
      "            \"question\": \"Which of the following animals is not a pet?\",\n",
      "            \"options\": [\"🐶\", \"🐱\", \"🐹\", \"🦁\"],\n",
      "            \"correct_answer\": \"🦁\",\n",
      "            \"explanation\": \"A lion (🦁) is a wild animal and not typically kept as a pet.\"\n",
      "        },\n",
      "        {\n",
      "            \"question_id\": \"2\",\n",
      "            \"question\": \"Which one of these animals is known to live in water?\",\n",
      "            \"options\": [\"🐮\", \"🦆\", \"🐔\", \"🐗\"],\n",
      "            \"correct_answer\": \"🦆\",\n",
      "            \"explanation\": \"Duck (🦆) is known to live in water, others are land animals.\"\n",
      "        },\n",
      "        {\n",
      "            \"question_id\": \"3\",\n",
      "            \"question\": \"Which of these animals does not lay eggs?\",\n",
      "            \"options\": [\"🐔\", \"🐧\", \"🐍\", \"🐵\"],\n",
      "            \"correct_answer\": \"🐵\",\n",
      "            \"explanation\": \"Monkeys (🐵) give birth to live young, they do not lay eggs.\"\n",
      "        },\n",
      "        {\n",
      "            \"question_id\": \"4\",\n",
      "            \"question\": \"Which of these emojis represents an animal that hibernates in winter?\",\n",
      "            \"options\": [\"🐻\", \"🐴\", \"🐼\", \"🦒\"],\n",
      "            \"correct_answer\": \"🐻\",\n",
      "            \"explanation\": \"Bears (🐻) are known to hibernate during the winter months.\"\n",
      "        },\n",
      "        {\n",
      "            \"question_id\": \"5\",\n",
      "            \"question\": \"Which one of these animals is known to be a carnivore?\",\n",
      "            \"options\": [\"🐰\", \"🐑\", \"🐼\", \"🐆\"],\n",
      "            \"correct_answer\": \"🐆\",\n",
      "            \"explanation\": \"A leopard (🐆) is a carnivore, it eats meat.\"\n",
      "        }\n",
      "    ]\n",
      "}\n"
     ]
    }
   ],
   "source": [
    "print(output['output_text'])"
   ],
   "metadata": {
    "collapsed": false,
    "ExecuteTime": {
     "end_time": "2023-09-02T13:03:03.636436100Z",
     "start_time": "2023-09-02T13:03:03.620513100Z"
    }
   }
  },
  {
   "cell_type": "code",
   "execution_count": 101,
   "outputs": [
    {
     "data": {
      "text/plain": "{'questions': [{'question_id': '1',\n   'question': 'Which of the following animals is not a pet?',\n   'options': ['🐶', '🐱', '🐹', '🦁'],\n   'correct_answer': '🦁',\n   'explanation': 'A lion (🦁) is a wild animal and not typically kept as a pet.'},\n  {'question_id': '2',\n   'question': 'Which one of these animals is known to live in water?',\n   'options': ['🐮', '🦆', '🐔', '🐗'],\n   'correct_answer': '🦆',\n   'explanation': 'Duck (🦆) is known to live in water, others are land animals.'},\n  {'question_id': '3',\n   'question': 'Which of these animals does not lay eggs?',\n   'options': ['🐔', '🐧', '🐍', '🐵'],\n   'correct_answer': '🐵',\n   'explanation': 'Monkeys (🐵) give birth to live young, they do not lay eggs.'},\n  {'question_id': '4',\n   'question': 'Which of these emojis represents an animal that hibernates in winter?',\n   'options': ['🐻', '🐴', '🐼', '🦒'],\n   'correct_answer': '🐻',\n   'explanation': 'Bears (🐻) are known to hibernate during the winter months.'},\n  {'question_id': '5',\n   'question': 'Which one of these animals is known to be a carnivore?',\n   'options': ['🐰', '🐑', '🐼', '🐆'],\n   'correct_answer': '🐆',\n   'explanation': 'A leopard (🐆) is a carnivore, it eats meat.'}]}"
     },
     "execution_count": 101,
     "metadata": {},
     "output_type": "execute_result"
    }
   ],
   "source": [
    "import json\n",
    "json.loads(output[\"output_text\"])"
   ],
   "metadata": {
    "collapsed": false,
    "ExecuteTime": {
     "end_time": "2023-09-02T13:03:21.777955Z",
     "start_time": "2023-09-02T13:03:21.768793200Z"
    }
   }
  },
  {
   "cell_type": "code",
   "execution_count": 102,
   "outputs": [],
   "source": [
    "from typing import List\n",
    "from pydantic import BaseModel, Field\n",
    "from langchain.output_parsers import PydanticOutputParser\n",
    "\n",
    "class Question(BaseModel):\n",
    "    question_id: str = Field(..., description=\"ID of the question\")\n",
    "    question: str = Field(..., description=\"The question text\")\n",
    "    options: List[str] = Field(..., description=\"List of answer options\")\n",
    "    correct_answer: str = Field(..., description=\"The correct answer\")\n",
    "    explanation: str = Field(..., description=\"Explanation for the correct answer\")\n",
    "\n",
    "class Quiz(BaseModel):\n",
    "    questions: List[Question] = Field(..., description=\"List of questions\")\n",
    "\n",
    "parser = PydanticOutputParser(pydantic_object=Quiz)"
   ],
   "metadata": {
    "collapsed": false,
    "ExecuteTime": {
     "end_time": "2023-09-02T13:03:32.387801500Z",
     "start_time": "2023-09-02T13:03:32.374561900Z"
    }
   }
  },
  {
   "cell_type": "code",
   "execution_count": 103,
   "outputs": [],
   "source": [
    "misformatted = \"\"\"{\n",
    "    \"questions\": [\n",
    "        {\n",
    "            \"question_id\": \"1\",\n",
    "            \"question\": \"Which one of the following is considered a pet?\",\n",
    "            \"options\": [\"🦓\", \"🐘\", \"🐱\", \"🐊\"],\n",
    "            \"correct_answer\": \"🐱\",\n",
    "            \"explanation\": \"Out of these options, only a cat is typically kept as a pet.\"\n",
    "        },\n",
    "        {\n",
    "            \"question_id\": \"2\",\n",
    "            \"question\": \"Which one of these animals usually lives in the jungle?\",\n",
    "            \"options\": [\"🐱\", \"🐮\", \"🐵\", \"🐔\"],\n",
    "            \"correct_answer\": \"🐵\",\n",
    "            \"explanation\": \"Monkeys are known to inhabit jungles.\"\n",
    "        },\n",
    "        {\n",
    "            \"question_id\": \"3\",\n",
    "            \"question\": \"Which animal is known to be a farm animal?\",\n",
    "            \"options\": [\"🐘\", \"🦓\", \"🐮\", \"🐵\"],\n",
    "            \"correct_answer\": \"🐮\",\n",
    "            \"explanation\": \"Cows are commonly found on farms.\"\n",
    "        },\n",
    "        {\n",
    "            \"question_id\": \"4\",\n",
    "            \"question\": \"Which animal is the largest?\",\n",
    "            \"options\": [\"🐘\", \"🐱\", \"🐮\", \"🐵\"],\n",
    "            \"correct_answer\": \"🐘\",\n",
    "            \"explanation\": \"Elephants are the largest land animals.\"\n",
    "        },\n",
    "        {\n",
    "            \"question_id\": \"5\",\n",
    "            \"question\": \"Which animal is not a mammal?\",\n",
    "            \"options\": [\"🐘\", \"🐱\", \"🐔\", \"🐵\"],\n",
    "            \"correct_answer\": \"🐔\"\n",
    "    ]\n",
    "}\"\"\""
   ],
   "metadata": {
    "collapsed": false,
    "ExecuteTime": {
     "end_time": "2023-09-02T13:03:37.891107500Z",
     "start_time": "2023-09-02T13:03:37.883909600Z"
    }
   }
  },
  {
   "cell_type": "code",
   "execution_count": 104,
   "outputs": [
    {
     "ename": "OutputParserException",
     "evalue": "Failed to parse Quiz from completion {\n    \"questions\": [\n        {\n            \"question_id\": \"1\",\n            \"question\": \"Which one of the following is considered a pet?\",\n            \"options\": [\"🦓\", \"🐘\", \"🐱\", \"🐊\"],\n            \"correct_answer\": \"🐱\",\n            \"explanation\": \"Out of these options, only a cat is typically kept as a pet.\"\n        },\n        {\n            \"question_id\": \"2\",\n            \"question\": \"Which one of these animals usually lives in the jungle?\",\n            \"options\": [\"🐱\", \"🐮\", \"🐵\", \"🐔\"],\n            \"correct_answer\": \"🐵\",\n            \"explanation\": \"Monkeys are known to inhabit jungles.\"\n        },\n        {\n            \"question_id\": \"3\",\n            \"question\": \"Which animal is known to be a farm animal?\",\n            \"options\": [\"🐘\", \"🦓\", \"🐮\", \"🐵\"],\n            \"correct_answer\": \"🐮\",\n            \"explanation\": \"Cows are commonly found on farms.\"\n        },\n        {\n            \"question_id\": \"4\",\n            \"question\": \"Which animal is the largest?\",\n            \"options\": [\"🐘\", \"🐱\", \"🐮\", \"🐵\"],\n            \"correct_answer\": \"🐘\",\n            \"explanation\": \"Elephants are the largest land animals.\"\n        },\n        {\n            \"question_id\": \"5\",\n            \"question\": \"Which animal is not a mammal?\",\n            \"options\": [\"🐘\", \"🐱\", \"🐔\", \"🐵\"],\n            \"correct_answer\": \"🐔\"\n    ]\n}. Got: Expecting ',' delimiter: line 36 column 5 (char 1308)",
     "output_type": "error",
     "traceback": [
      "\u001B[1;31m---------------------------------------------------------------------------\u001B[0m",
      "\u001B[1;31mJSONDecodeError\u001B[0m                           Traceback (most recent call last)",
      "File \u001B[1;32m~\\Anaconda3\\envs\\llm\\lib\\site-packages\\langchain\\output_parsers\\pydantic.py:27\u001B[0m, in \u001B[0;36mPydanticOutputParser.parse\u001B[1;34m(self, text)\u001B[0m\n\u001B[0;32m     26\u001B[0m     json_str \u001B[38;5;241m=\u001B[39m match\u001B[38;5;241m.\u001B[39mgroup()\n\u001B[1;32m---> 27\u001B[0m json_object \u001B[38;5;241m=\u001B[39m \u001B[43mjson\u001B[49m\u001B[38;5;241;43m.\u001B[39;49m\u001B[43mloads\u001B[49m\u001B[43m(\u001B[49m\u001B[43mjson_str\u001B[49m\u001B[43m,\u001B[49m\u001B[43m \u001B[49m\u001B[43mstrict\u001B[49m\u001B[38;5;241;43m=\u001B[39;49m\u001B[38;5;28;43;01mFalse\u001B[39;49;00m\u001B[43m)\u001B[49m\n\u001B[0;32m     28\u001B[0m \u001B[38;5;28;01mreturn\u001B[39;00m \u001B[38;5;28mself\u001B[39m\u001B[38;5;241m.\u001B[39mpydantic_object\u001B[38;5;241m.\u001B[39mparse_obj(json_object)\n",
      "File \u001B[1;32m~\\Anaconda3\\envs\\llm\\lib\\json\\__init__.py:359\u001B[0m, in \u001B[0;36mloads\u001B[1;34m(s, cls, object_hook, parse_float, parse_int, parse_constant, object_pairs_hook, **kw)\u001B[0m\n\u001B[0;32m    358\u001B[0m     kw[\u001B[38;5;124m'\u001B[39m\u001B[38;5;124mparse_constant\u001B[39m\u001B[38;5;124m'\u001B[39m] \u001B[38;5;241m=\u001B[39m parse_constant\n\u001B[1;32m--> 359\u001B[0m \u001B[38;5;28;01mreturn\u001B[39;00m \u001B[38;5;28;43mcls\u001B[39;49m\u001B[43m(\u001B[49m\u001B[38;5;241;43m*\u001B[39;49m\u001B[38;5;241;43m*\u001B[39;49m\u001B[43mkw\u001B[49m\u001B[43m)\u001B[49m\u001B[38;5;241;43m.\u001B[39;49m\u001B[43mdecode\u001B[49m\u001B[43m(\u001B[49m\u001B[43ms\u001B[49m\u001B[43m)\u001B[49m\n",
      "File \u001B[1;32m~\\Anaconda3\\envs\\llm\\lib\\json\\decoder.py:337\u001B[0m, in \u001B[0;36mJSONDecoder.decode\u001B[1;34m(self, s, _w)\u001B[0m\n\u001B[0;32m    333\u001B[0m \u001B[38;5;250m\u001B[39m\u001B[38;5;124;03m\"\"\"Return the Python representation of ``s`` (a ``str`` instance\u001B[39;00m\n\u001B[0;32m    334\u001B[0m \u001B[38;5;124;03mcontaining a JSON document).\u001B[39;00m\n\u001B[0;32m    335\u001B[0m \n\u001B[0;32m    336\u001B[0m \u001B[38;5;124;03m\"\"\"\u001B[39;00m\n\u001B[1;32m--> 337\u001B[0m obj, end \u001B[38;5;241m=\u001B[39m \u001B[38;5;28;43mself\u001B[39;49m\u001B[38;5;241;43m.\u001B[39;49m\u001B[43mraw_decode\u001B[49m\u001B[43m(\u001B[49m\u001B[43ms\u001B[49m\u001B[43m,\u001B[49m\u001B[43m \u001B[49m\u001B[43midx\u001B[49m\u001B[38;5;241;43m=\u001B[39;49m\u001B[43m_w\u001B[49m\u001B[43m(\u001B[49m\u001B[43ms\u001B[49m\u001B[43m,\u001B[49m\u001B[43m \u001B[49m\u001B[38;5;241;43m0\u001B[39;49m\u001B[43m)\u001B[49m\u001B[38;5;241;43m.\u001B[39;49m\u001B[43mend\u001B[49m\u001B[43m(\u001B[49m\u001B[43m)\u001B[49m\u001B[43m)\u001B[49m\n\u001B[0;32m    338\u001B[0m end \u001B[38;5;241m=\u001B[39m _w(s, end)\u001B[38;5;241m.\u001B[39mend()\n",
      "File \u001B[1;32m~\\Anaconda3\\envs\\llm\\lib\\json\\decoder.py:353\u001B[0m, in \u001B[0;36mJSONDecoder.raw_decode\u001B[1;34m(self, s, idx)\u001B[0m\n\u001B[0;32m    352\u001B[0m \u001B[38;5;28;01mtry\u001B[39;00m:\n\u001B[1;32m--> 353\u001B[0m     obj, end \u001B[38;5;241m=\u001B[39m \u001B[38;5;28;43mself\u001B[39;49m\u001B[38;5;241;43m.\u001B[39;49m\u001B[43mscan_once\u001B[49m\u001B[43m(\u001B[49m\u001B[43ms\u001B[49m\u001B[43m,\u001B[49m\u001B[43m \u001B[49m\u001B[43midx\u001B[49m\u001B[43m)\u001B[49m\n\u001B[0;32m    354\u001B[0m \u001B[38;5;28;01mexcept\u001B[39;00m \u001B[38;5;167;01mStopIteration\u001B[39;00m \u001B[38;5;28;01mas\u001B[39;00m err:\n",
      "\u001B[1;31mJSONDecodeError\u001B[0m: Expecting ',' delimiter: line 36 column 5 (char 1308)",
      "\nDuring handling of the above exception, another exception occurred:\n",
      "\u001B[1;31mOutputParserException\u001B[0m                     Traceback (most recent call last)",
      "Cell \u001B[1;32mIn[104], line 1\u001B[0m\n\u001B[1;32m----> 1\u001B[0m \u001B[43mparser\u001B[49m\u001B[38;5;241;43m.\u001B[39;49m\u001B[43mparse\u001B[49m\u001B[43m(\u001B[49m\u001B[43mmisformatted\u001B[49m\u001B[43m)\u001B[49m\n",
      "File \u001B[1;32m~\\Anaconda3\\envs\\llm\\lib\\site-packages\\langchain\\output_parsers\\pydantic.py:33\u001B[0m, in \u001B[0;36mPydanticOutputParser.parse\u001B[1;34m(self, text)\u001B[0m\n\u001B[0;32m     31\u001B[0m name \u001B[38;5;241m=\u001B[39m \u001B[38;5;28mself\u001B[39m\u001B[38;5;241m.\u001B[39mpydantic_object\u001B[38;5;241m.\u001B[39m\u001B[38;5;18m__name__\u001B[39m\n\u001B[0;32m     32\u001B[0m msg \u001B[38;5;241m=\u001B[39m \u001B[38;5;124mf\u001B[39m\u001B[38;5;124m\"\u001B[39m\u001B[38;5;124mFailed to parse \u001B[39m\u001B[38;5;132;01m{\u001B[39;00mname\u001B[38;5;132;01m}\u001B[39;00m\u001B[38;5;124m from completion \u001B[39m\u001B[38;5;132;01m{\u001B[39;00mtext\u001B[38;5;132;01m}\u001B[39;00m\u001B[38;5;124m. Got: \u001B[39m\u001B[38;5;132;01m{\u001B[39;00me\u001B[38;5;132;01m}\u001B[39;00m\u001B[38;5;124m\"\u001B[39m\n\u001B[1;32m---> 33\u001B[0m \u001B[38;5;28;01mraise\u001B[39;00m OutputParserException(msg, llm_output\u001B[38;5;241m=\u001B[39mtext)\n",
      "\u001B[1;31mOutputParserException\u001B[0m: Failed to parse Quiz from completion {\n    \"questions\": [\n        {\n            \"question_id\": \"1\",\n            \"question\": \"Which one of the following is considered a pet?\",\n            \"options\": [\"🦓\", \"🐘\", \"🐱\", \"🐊\"],\n            \"correct_answer\": \"🐱\",\n            \"explanation\": \"Out of these options, only a cat is typically kept as a pet.\"\n        },\n        {\n            \"question_id\": \"2\",\n            \"question\": \"Which one of these animals usually lives in the jungle?\",\n            \"options\": [\"🐱\", \"🐮\", \"🐵\", \"🐔\"],\n            \"correct_answer\": \"🐵\",\n            \"explanation\": \"Monkeys are known to inhabit jungles.\"\n        },\n        {\n            \"question_id\": \"3\",\n            \"question\": \"Which animal is known to be a farm animal?\",\n            \"options\": [\"🐘\", \"🦓\", \"🐮\", \"🐵\"],\n            \"correct_answer\": \"🐮\",\n            \"explanation\": \"Cows are commonly found on farms.\"\n        },\n        {\n            \"question_id\": \"4\",\n            \"question\": \"Which animal is the largest?\",\n            \"options\": [\"🐘\", \"🐱\", \"🐮\", \"🐵\"],\n            \"correct_answer\": \"🐘\",\n            \"explanation\": \"Elephants are the largest land animals.\"\n        },\n        {\n            \"question_id\": \"5\",\n            \"question\": \"Which animal is not a mammal?\",\n            \"options\": [\"🐘\", \"🐱\", \"🐔\", \"🐵\"],\n            \"correct_answer\": \"🐔\"\n    ]\n}. Got: Expecting ',' delimiter: line 36 column 5 (char 1308)"
     ]
    }
   ],
   "source": [
    "parser.parse(misformatted)"
   ],
   "metadata": {
    "collapsed": false,
    "ExecuteTime": {
     "end_time": "2023-09-02T13:03:39.588592300Z",
     "start_time": "2023-09-02T13:03:39.515930900Z"
    }
   }
  },
  {
   "cell_type": "code",
   "execution_count": 105,
   "outputs": [
    {
     "data": {
      "text/plain": "Quiz(questions=[Question(question_id='1', question='Which one of the following is considered a pet?', options=['🦓', '🐘', '🐱', '🐊'], correct_answer='🐱', explanation='Out of these options, only a cat is typically kept as a pet.'), Question(question_id='2', question='Which one of these animals usually lives in the jungle?', options=['🐱', '🐮', '🐵', '🐔'], correct_answer='🐵', explanation='Monkeys are known to inhabit jungles.'), Question(question_id='3', question='Which animal is known to be a farm animal?', options=['🐘', '🦓', '🐮', '🐵'], correct_answer='🐮', explanation='Cows are commonly found on farms.'), Question(question_id='4', question='Which animal is the largest?', options=['🐘', '🐱', '🐮', '🐵'], correct_answer='🐘', explanation='Elephants are the largest land animals.'), Question(question_id='5', question='Which animal is not a mammal?', options=['🐘', '🐱', '🐔', '🐵'], correct_answer='🐔', explanation='Chickens are birds, not mammals.')])"
     },
     "execution_count": 105,
     "metadata": {},
     "output_type": "execute_result"
    }
   ],
   "source": [
    "from langchain.output_parsers import OutputFixingParser\n",
    "\n",
    "new_parser = OutputFixingParser.from_llm(parser=parser, llm=llm)\n",
    "quiz = new_parser.parse(misformatted)\n",
    "quiz"
   ],
   "metadata": {
    "collapsed": false,
    "ExecuteTime": {
     "end_time": "2023-09-02T13:04:07.826804500Z",
     "start_time": "2023-09-02T13:03:41.910083Z"
    }
   }
  },
  {
   "cell_type": "code",
   "execution_count": 106,
   "outputs": [
    {
     "data": {
      "text/plain": "[{'question_id': '1',\n  'question': 'Which one of the following is considered a pet?',\n  'options': ['🦓', '🐘', '🐱', '🐊'],\n  'correct_answer': '🐱',\n  'explanation': 'Out of these options, only a cat is typically kept as a pet.'},\n {'question_id': '2',\n  'question': 'Which one of these animals usually lives in the jungle?',\n  'options': ['🐱', '🐮', '🐵', '🐔'],\n  'correct_answer': '🐵',\n  'explanation': 'Monkeys are known to inhabit jungles.'},\n {'question_id': '3',\n  'question': 'Which animal is known to be a farm animal?',\n  'options': ['🐘', '🦓', '🐮', '🐵'],\n  'correct_answer': '🐮',\n  'explanation': 'Cows are commonly found on farms.'},\n {'question_id': '4',\n  'question': 'Which animal is the largest?',\n  'options': ['🐘', '🐱', '🐮', '🐵'],\n  'correct_answer': '🐘',\n  'explanation': 'Elephants are the largest land animals.'},\n {'question_id': '5',\n  'question': 'Which animal is not a mammal?',\n  'options': ['🐘', '🐱', '🐔', '🐵'],\n  'correct_answer': '🐔',\n  'explanation': 'Chickens are birds, not mammals.'}]"
     },
     "execution_count": 106,
     "metadata": {},
     "output_type": "execute_result"
    }
   ],
   "source": [
    "[{\n",
    "    \"question_id\": j.question_id,\n",
    "    \"question\": j.question,\n",
    "    \"options\": j.options,\n",
    "    \"correct_answer\": j.correct_answer,\n",
    "    \"explanation\": j.explanation\n",
    "} for j in quiz.questions]"
   ],
   "metadata": {
    "collapsed": false,
    "ExecuteTime": {
     "end_time": "2023-09-02T13:04:07.870696700Z",
     "start_time": "2023-09-02T13:04:07.828835Z"
    }
   }
  },
  {
   "cell_type": "code",
   "execution_count": null,
   "outputs": [],
   "source": [],
   "metadata": {
    "collapsed": false
   }
  },
  {
   "cell_type": "code",
   "execution_count": null,
   "outputs": [],
   "source": [],
   "metadata": {
    "collapsed": false
   }
  }
 ],
 "metadata": {
  "kernelspec": {
   "display_name": "Python 3",
   "language": "python",
   "name": "python3"
  },
  "language_info": {
   "codemirror_mode": {
    "name": "ipython",
    "version": 2
   },
   "file_extension": ".py",
   "mimetype": "text/x-python",
   "name": "python",
   "nbconvert_exporter": "python",
   "pygments_lexer": "ipython2",
   "version": "2.7.6"
  }
 },
 "nbformat": 4,
 "nbformat_minor": 0
}
